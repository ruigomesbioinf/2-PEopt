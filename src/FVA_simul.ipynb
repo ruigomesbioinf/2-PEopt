{
 "cells": [
  {
   "cell_type": "code",
   "execution_count": 10,
   "metadata": {},
   "outputs": [
    {
     "name": "stdout",
     "output_type": "stream",
     "text": [
      "  Reaction ID  Minimum   Maximum\n",
      "0      r_1589      0.0  0.927562\n"
     ]
    }
   ],
   "source": [
    "from cobra.io import read_sbml_model\n",
    "from mewpy.simulation import get_simulator\n",
    "\n",
    "model = read_sbml_model(\"models/yeast-GEM.xml\")\n",
    "\n",
    "O2 = \"r_1992\" # EX_o2_e (r_1992)\n",
    "GLC = \"r_1714\" # EX_glc__D_e (r_1714)\n",
    "\n",
    "envcond = {\n",
    "        O2: (-20.0, 100000.0), \n",
    "        GLC: (-10.0, 100000.0)\n",
    "        }\n",
    "\n",
    "PRODUCT_ID = \"r_1589\" # EX_2phetoh_e (r_1589)\n",
    "\n",
    "simul = get_simulator(model, envcond=envcond)\n",
    "print(simul.FVA(reactions = [PRODUCT_ID], format = 'df'))\n"
   ]
  },
  {
   "cell_type": "code",
   "execution_count": null,
   "metadata": {},
   "outputs": [],
   "source": []
  }
 ],
 "metadata": {
  "kernelspec": {
   "display_name": "Python 3.8.8 ('base')",
   "language": "python",
   "name": "python3"
  },
  "language_info": {
   "codemirror_mode": {
    "name": "ipython",
    "version": 3
   },
   "file_extension": ".py",
   "mimetype": "text/x-python",
   "name": "python",
   "nbconvert_exporter": "python",
   "pygments_lexer": "ipython3",
   "version": "3.8.8"
  },
  "orig_nbformat": 4,
  "vscode": {
   "interpreter": {
    "hash": "9424fe230b595050638214e82b7fa1060f6fdf4fcab7424af3a3c7c357b6fbb9"
   }
  }
 },
 "nbformat": 4,
 "nbformat_minor": 2
}
