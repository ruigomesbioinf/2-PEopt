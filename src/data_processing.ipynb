{
 "cells": [
  {
   "cell_type": "markdown",
   "metadata": {},
   "source": [
    "## ***SACHAROMYCES CEREVISIAE*** OPTIMIZATION OUTPUT DATA PROCESSING"
   ]
  },
  {
   "cell_type": "markdown",
   "metadata": {},
   "source": [
    "Since we've runned 10 Gene Over/Under expression optimization problem we've quite a lot of results to carefully interpret. We'll be using pandas (a powerful python library to handle data science preprocessing stages). <br> First we'll merge all 10 .csv file into 1 .csv file to better understand our data and preform various preprocessing steps to gather only the best solutions possible for our problem."
   ]
  },
  {
   "cell_type": "code",
   "execution_count": 50,
   "metadata": {},
   "outputs": [
    {
     "name": "stdout",
     "output_type": "stream",
     "text": [
      "This dataframe has: 188 solutions and 7 columns.\n",
      "This dataframe has: 188 solutions and 5 columns after manipulation.\n"
     ]
    }
   ],
   "source": [
    "import os\n",
    "import glob\n",
    "import pandas as pd\n",
    "import warnings\n",
    "\n",
    "warnings.filterwarnings(\"ignore\")\n",
    "\n",
    "# pandas has a set_option method that let you costumize the behaviour and display of dataframes\n",
    "# here the set_option method is set to display the full contents of our dataframe\n",
    "# pd.set_option(\"display.max_rows\", None)\n",
    "# pd.options.display.max_rows = 15\n",
    "\n",
    "# setting the path to join multiple files \n",
    "files = os.path.join(r'C:\\Users\\geral\\Desktop\\BIOINF_PROJECT\\2-PEopt\\src\\outputGOU', \"*.csv\")\n",
    "\n",
    "# return a list of the merged files\n",
    "files = glob.glob(files)\n",
    "\n",
    "# using pandas methods concat and read_csv to join files\n",
    "df = pd.concat([pd.read_csv(f, sep=\";\", index_col=False) for f in files], ignore_index=True)\n",
    "print(f\"This dataframe has: {df.shape[0] - 1} solutions and {df.shape[1]} columns.\")\n",
    "\n",
    "# pandas dataframe manipulation to drop unnecessary columns (columns only with NaN values)\n",
    "df.drop([\"Unnamed: 3\", \"solution\"], axis=1, inplace=True)\n",
    "print(f\"This dataframe has: {df.shape[0] - 1} solutions and {df.shape[1]} columns after manipulation.\")\n",
    "\n",
    "# change column names\n",
    "df.rename(columns={\"Unnamed: 4\": \"Gene solutions\", \"Unnamed: 6\": \"Reaction constraints\"}, inplace=True)\n"
   ]
  },
  {
   "cell_type": "code",
   "execution_count": 3,
   "metadata": {},
   "outputs": [],
   "source": [
    "# cell to display part of out dataframe\n",
    "# df"
   ]
  },
  {
   "cell_type": "markdown",
   "metadata": {},
   "source": [
    "Our first preprocessing step will be ignoring all modifications that have biomass of less than 0.1. We can obtain the biomass values by dividing the values on the BPCY column with the flux of 2-phenylethanol. This flux can be obtained using MEWpy get_simulator function."
   ]
  },
  {
   "cell_type": "code",
   "execution_count": 27,
   "metadata": {},
   "outputs": [
    {
     "name": "stdout",
     "output_type": "stream",
     "text": [
      "{'r_1589': [0.0, 0.9275619609710613]}\n"
     ]
    }
   ],
   "source": [
    "from cobra.io import read_sbml_model\n",
    "from mewpy.simulation import get_simulator\n",
    "\n",
    "model = read_sbml_model(\"models/yeast-GEM.xml\")\n",
    "\n",
    "O2 = \"r_1992\" # EX_o2_e (r_1992)\n",
    "GLC = \"r_1714\" # EX_glc__D_e (r_1714)\n",
    "\n",
    "envcond = {\n",
    "        O2: (-20.0, 100000.0), \n",
    "        GLC: (-10.0, 100000.0)\n",
    "        }\n",
    "\n",
    "BIOMASS_ID = \"r_4041\" # BIOMASS_yeast-GEM (r_4041)\n",
    "PRODUCT_ID = \"r_1589\" # EX_2phetoh_e (r_1589)\n",
    "\n",
    "simul = get_simulator(model, envcond=envcond)\n",
    "phenyl_FVA = simul.FVA(reactions = [PRODUCT_ID]) # {'r_1589': [0.0, 0.9275619609710613]}\n",
    "\n",
    "phenyl_FLUX = 0\n",
    "for key, value in phenyl_FVA.items():\n",
    "        phenyl_FLUX += value[1]\n",
    "\n",
    "print(phenyl_FVA)\n"
   ]
  },
  {
   "cell_type": "code",
   "execution_count": 28,
   "metadata": {},
   "outputs": [
    {
     "name": "stdout",
     "output_type": "stream",
     "text": [
      "This dataframe has 114 solutions after deleting all rows with biomass inferior to 0.1.\n"
     ]
    }
   ],
   "source": [
    "# Create new column with biomass values by dividing BPCY values with 2-phenylethanol flux\n",
    "df[\"Biomass\"] = df[\"BPCY (r_4041 * r_1589)\"] / phenyl_FLUX\n",
    "\n",
    "# Drop rows that have a biomass value of less than 0.1\n",
    "df.drop(df[df[\"Biomass\"] < 0.1].index, inplace=True)\n",
    "\n",
    "print(f\"This dataframe has {df.shape[0] - 1} solutions after deleting all rows with biomass inferior to 0.1.\")\n",
    "df.reset_index(drop=True, inplace=True)"
   ]
  },
  {
   "cell_type": "markdown",
   "metadata": {},
   "source": [
    "Our goal now is to reduce even more our pool of possible solutions by choosing the ones that have less genetic modifications. <br>\n",
    "To make this analysis we need to make some changes to our dataframe first. Although our \"Gene solutions\" and \"Reaction constraints\" column values look like a dictionary they're actually strings formatted as dictionaries. To make these changes we will use **ast**, a python library that makes transforming a dictionary formatted string into a python dictionary object possible."
   ]
  },
  {
   "cell_type": "code",
   "execution_count": 29,
   "metadata": {},
   "outputs": [],
   "source": [
    "import ast\n",
    "\n",
    "df[\"Reaction constraints\"] = df[\"Reaction constraints\"].apply(ast.literal_eval)\n",
    "df[\"Gene solutions\"] = df[\"Gene solutions\"].apply(ast.literal_eval)\n"
   ]
  },
  {
   "cell_type": "code",
   "execution_count": 30,
   "metadata": {},
   "outputs": [
    {
     "data": {
      "text/plain": [
       "70"
      ]
     },
     "execution_count": 30,
     "metadata": {},
     "output_type": "execute_result"
    }
   ],
   "source": [
    "df.drop(df[df[\"Gene solutions\"].map(len) > 15].index, inplace=True)\n",
    "df.reset_index(drop=True, inplace=True)\n",
    "\n",
    "df.shape[0] - 1"
   ]
  },
  {
   "cell_type": "markdown",
   "metadata": {},
   "source": [
    "With our pool of possible solutions we want to narrow it down to the ones that have a FVA minimum value higher than 0. We can use MEWpy to calculate these values."
   ]
  },
  {
   "cell_type": "code",
   "execution_count": 31,
   "metadata": {},
   "outputs": [],
   "source": [
    "from mewpy.simulation import get_simulator\n",
    "\n",
    "simulator = get_simulator(model, envcond=envcond)\n",
    "lista_reaction_constraints = [a for a in df[\"Reaction constraints\"]]\n",
    "\n",
    "for index, constraint in enumerate(lista_reaction_constraints):\n",
    "    try:\n",
    "        a = simulator.FVA(constraints=constraint, reactions = [PRODUCT_ID])\n",
    "        if a.get(\"r_1589\")[0] == 0:\n",
    "            df.drop(index, inplace=True)\n",
    "    except Exception:\n",
    "        pass\n",
    "\n",
    "df.drop(3, inplace=True)\n",
    "df.reset_index(drop=True, inplace=True)"
   ]
  },
  {
   "cell_type": "code",
   "execution_count": 32,
   "metadata": {},
   "outputs": [
    {
     "data": {
      "text/html": [
       "<div>\n",
       "<style scoped>\n",
       "    .dataframe tbody tr th:only-of-type {\n",
       "        vertical-align: middle;\n",
       "    }\n",
       "\n",
       "    .dataframe tbody tr th {\n",
       "        vertical-align: top;\n",
       "    }\n",
       "\n",
       "    .dataframe thead th {\n",
       "        text-align: right;\n",
       "    }\n",
       "</style>\n",
       "<table border=\"1\" class=\"dataframe\">\n",
       "  <thead>\n",
       "    <tr style=\"text-align: right;\">\n",
       "      <th></th>\n",
       "      <th>BPCY (r_4041 * r_1589)</th>\n",
       "      <th>TargetFlux r_4041 with at least 0.0 of biomass (None)</th>\n",
       "      <th>WYIELD biomass: r_4041 product: r_1589</th>\n",
       "      <th>Gene solutions</th>\n",
       "      <th>Reaction constraints</th>\n",
       "      <th>Biomass</th>\n",
       "    </tr>\n",
       "  </thead>\n",
       "  <tbody>\n",
       "    <tr>\n",
       "      <th>0</th>\n",
       "      <td>0.398820</td>\n",
       "      <td>0.102054</td>\n",
       "      <td>3.550329</td>\n",
       "      <td>{'YPL028W': 0, 'YNL316C': 32, 'YMR105C': 8, 'Y...</td>\n",
       "      <td>{'r_0104': 0, 'r_0103': 0, 'r_0439': (0, 18.98...</td>\n",
       "      <td>0.429966</td>\n",
       "    </tr>\n",
       "    <tr>\n",
       "      <th>1</th>\n",
       "      <td>0.311934</td>\n",
       "      <td>0.077422</td>\n",
       "      <td>3.702119</td>\n",
       "      <td>{'YGR256W': 2, 'YDL198C': 0.0625, 'YLR359W': 0...</td>\n",
       "      <td>{'r_0151': (0, 0.08376934531786118), 'r_0152':...</td>\n",
       "      <td>0.336295</td>\n",
       "    </tr>\n",
       "    <tr>\n",
       "      <th>2</th>\n",
       "      <td>0.475955</td>\n",
       "      <td>0.118863</td>\n",
       "      <td>3.611968</td>\n",
       "      <td>{'YGR256W': 2, 'YNL316C': 32, 'Q0045': 0.25}</td>\n",
       "      <td>{'r_0438': (0, 19.307971581669968), 'r_0889': ...</td>\n",
       "      <td>0.513125</td>\n",
       "    </tr>\n",
       "    <tr>\n",
       "      <th>3</th>\n",
       "      <td>0.439335</td>\n",
       "      <td>0.110119</td>\n",
       "      <td>3.613078</td>\n",
       "      <td>{'YGR256W': 2, 'YNL316C': 32, 'Q0045': 0.25, '...</td>\n",
       "      <td>{'r_1056': (0, 0), 'r_1063': 0, 'r_4226': 0, '...</td>\n",
       "      <td>0.473645</td>\n",
       "    </tr>\n",
       "    <tr>\n",
       "      <th>4</th>\n",
       "      <td>0.477147</td>\n",
       "      <td>0.119819</td>\n",
       "      <td>3.588457</td>\n",
       "      <td>{'YGR256W': 2, 'YNL316C': 32, 'Q0045': 0.25, '...</td>\n",
       "      <td>{'r_0851': 0, 'r_1056': (0, 0), 'r_1063': 0, '...</td>\n",
       "      <td>0.514409</td>\n",
       "    </tr>\n",
       "  </tbody>\n",
       "</table>\n",
       "</div>"
      ],
      "text/plain": [
       "   BPCY (r_4041 * r_1589)  \\\n",
       "0                0.398820   \n",
       "1                0.311934   \n",
       "2                0.475955   \n",
       "3                0.439335   \n",
       "4                0.477147   \n",
       "\n",
       "   TargetFlux r_4041 with at least 0.0 of biomass (None)  \\\n",
       "0                                           0.102054       \n",
       "1                                           0.077422       \n",
       "2                                           0.118863       \n",
       "3                                           0.110119       \n",
       "4                                           0.119819       \n",
       "\n",
       "   WYIELD biomass: r_4041 product: r_1589   \\\n",
       "0                                 3.550329   \n",
       "1                                 3.702119   \n",
       "2                                 3.611968   \n",
       "3                                 3.613078   \n",
       "4                                 3.588457   \n",
       "\n",
       "                                      Gene solutions  \\\n",
       "0  {'YPL028W': 0, 'YNL316C': 32, 'YMR105C': 8, 'Y...   \n",
       "1  {'YGR256W': 2, 'YDL198C': 0.0625, 'YLR359W': 0...   \n",
       "2       {'YGR256W': 2, 'YNL316C': 32, 'Q0045': 0.25}   \n",
       "3  {'YGR256W': 2, 'YNL316C': 32, 'Q0045': 0.25, '...   \n",
       "4  {'YGR256W': 2, 'YNL316C': 32, 'Q0045': 0.25, '...   \n",
       "\n",
       "                                Reaction constraints   Biomass  \n",
       "0  {'r_0104': 0, 'r_0103': 0, 'r_0439': (0, 18.98...  0.429966  \n",
       "1  {'r_0151': (0, 0.08376934531786118), 'r_0152':...  0.336295  \n",
       "2  {'r_0438': (0, 19.307971581669968), 'r_0889': ...  0.513125  \n",
       "3  {'r_1056': (0, 0), 'r_1063': 0, 'r_4226': 0, '...  0.473645  \n",
       "4  {'r_0851': 0, 'r_1056': (0, 0), 'r_1063': 0, '...  0.514409  "
      ]
     },
     "execution_count": 32,
     "metadata": {},
     "output_type": "execute_result"
    }
   ],
   "source": [
    "df"
   ]
  },
  {
   "cell_type": "markdown",
   "metadata": {},
   "source": [
    "Of the remaining possible solutions we want to select the ones that have the least UP-REGULATED genes since it's more easy to implement a DOWN-REGULATION or a DELETION of a gene than a UP-REGULATION."
   ]
  },
  {
   "cell_type": "code",
   "execution_count": 33,
   "metadata": {},
   "outputs": [
    {
     "name": "stdout",
     "output_type": "stream",
     "text": [
      "*****************************\n",
      "modification 0\n",
      "*****************************\n",
      "YPL028W 0\n",
      "YNL316C 32      UPREGULATION\n",
      "YMR105C 8      UPREGULATION\n",
      "YHR183W 4      UPREGULATION\n",
      "YOR065W 0.5\n",
      "*****************************\n",
      "modification 1\n",
      "*****************************\n",
      "YGR256W 2      UPREGULATION\n",
      "YDL198C 0.0625\n",
      "YLR359W 0.5\n",
      "YCL050C 2      UPREGULATION\n",
      "YDR497C 0.25\n",
      "YNL316C 32      UPREGULATION\n",
      "Q0045 0.25\n",
      "YPR145W 16      UPREGULATION\n",
      "*****************************\n",
      "modification 2\n",
      "*****************************\n",
      "YGR256W 2      UPREGULATION\n",
      "YNL316C 32      UPREGULATION\n",
      "Q0045 0.25\n",
      "*****************************\n",
      "modification 3\n",
      "*****************************\n",
      "YGR256W 2      UPREGULATION\n",
      "YNL316C 32      UPREGULATION\n",
      "Q0045 0.25\n",
      "YDR111C 0\n",
      "YGL202W 0\n",
      "YPR145W 4      UPREGULATION\n",
      "*****************************\n",
      "modification 4\n",
      "*****************************\n",
      "YGR256W 2      UPREGULATION\n",
      "YNL316C 32      UPREGULATION\n",
      "Q0045 0.25\n",
      "YDR111C 0\n",
      "YGL202W 0\n",
      "YJR095W 0\n"
     ]
    }
   ],
   "source": [
    "for index, modification in enumerate(df[\"Gene solutions\"]):\n",
    "    print(\"*****************************\")\n",
    "    print(f\"modification {index}\")\n",
    "    print(\"*****************************\")\n",
    "    for key, value in modification.items():\n",
    "        if value > 1:\n",
    "            print(key, value, \"     UPREGULATION\")\n",
    "        else:\n",
    "            print(key, value)"
   ]
  },
  {
   "cell_type": "markdown",
   "metadata": {},
   "source": [
    "## simulation modification tests"
   ]
  },
  {
   "cell_type": "code",
   "execution_count": 49,
   "metadata": {},
   "outputs": [
    {
     "name": "stdout",
     "output_type": "stream",
     "text": [
      "&  & 0.7647641916534748 & 3.9424708441024268\n",
      "&  & 1.56544454976807 & 4.002905514985341\n",
      "&  & 0.3316598764984229 & 4.07373358588535\n",
      "&  & 0.574775143577916 & 4.040777930757123\n",
      "&  & 0.2728166928516358 & 4.05519031511363\n"
     ]
    }
   ],
   "source": [
    "for constraint in lista_reaction_constraints:\n",
    "    a = simulator.FVA(constraints=constraint, reactions = [PRODUCT_ID])\n",
    "    print(\"& \",a.get(\"r_1589\")[0], a.get(\"r_1589\")[1], sep = \" & \")"
   ]
  },
  {
   "cell_type": "code",
   "execution_count": 34,
   "metadata": {},
   "outputs": [
    {
     "name": "stdout",
     "output_type": "stream",
     "text": [
      "solution 0\n",
      "  Reaction ID  Flux rate\n",
      "0      r_1589   3.753913\n",
      "solution 1\n",
      "  Reaction ID  Flux rate\n",
      "0      r_1589   3.858282\n",
      "solution 2\n",
      "  Reaction ID  Flux rate\n",
      "0      r_1589   3.851711\n",
      "solution 3\n",
      "  Reaction ID  Flux rate\n",
      "0      r_1589   3.835133\n",
      "solution 4\n",
      "  Reaction ID  Flux rate\n",
      "0      r_1589   3.830782\n"
     ]
    }
   ],
   "source": [
    "from mewpy.problems import GOUProblem\n",
    "\n",
    "problem = GOUProblem(model, [], envcond=envcond)\n",
    "sim = problem.simulator\n",
    "\n",
    "lista_reaction_constraints = [a for a in df[\"Reaction constraints\"]]\n",
    "\n",
    "for index, constraint in enumerate(lista_reaction_constraints):\n",
    "    print(f\"solution {index}\")\n",
    "    print(sim.simulate(constraints=constraint).find('r_1589'))"
   ]
  },
  {
   "cell_type": "code",
   "execution_count": 35,
   "metadata": {},
   "outputs": [
    {
     "data": {
      "text/plain": [
       "<matplotlib.axes._subplots.AxesSubplot at 0x1e3de327cd0>"
      ]
     },
     "execution_count": 35,
     "metadata": {},
     "output_type": "execute_result"
    },
    {
     "data": {
      "image/png": "[encoded data removed]",
      "text/plain": [
       "<Figure size 432x288 with 1 Axes>"
      ]
     },
     "metadata": {
      "needs_background": "light"
     },
     "output_type": "display_data"
    }
   ],
   "source": [
    "from mewpy.visualization.envelope import plot_flux_envelope\n",
    "\n",
    "plot_flux_envelope(sim,BIOMASS_ID,PRODUCT_ID,constraints = lista_reaction_constraints[4])"
   ]
  },
  {
   "cell_type": "code",
   "execution_count": 36,
   "metadata": {},
   "outputs": [
    {
     "data": {
      "text/plain": [
       "<matplotlib.axes._subplots.AxesSubplot at 0x1e3dd192730>"
      ]
     },
     "execution_count": 36,
     "metadata": {},
     "output_type": "execute_result"
    },
    {
     "data": {
      "image/png": "[encoded data removed]",
      "text/plain": [
       "<Figure size 432x288 with 1 Axes>"
      ]
     },
     "metadata": {
      "needs_background": "light"
     },
     "output_type": "display_data"
    }
   ],
   "source": [
    "plot_flux_envelope(sim,BIOMASS_ID,PRODUCT_ID,constraints = lista_reaction_constraints[3])"
   ]
  },
  {
   "cell_type": "code",
   "execution_count": 37,
   "metadata": {},
   "outputs": [
    {
     "data": {
      "text/plain": [
       "<matplotlib.axes._subplots.AxesSubplot at 0x1e3dd0123a0>"
      ]
     },
     "execution_count": 37,
     "metadata": {},
     "output_type": "execute_result"
    },
    {
     "data": {
      "image/png": "[encoded data removed]",
      "text/plain": [
       "<Figure size 432x288 with 1 Axes>"
      ]
     },
     "metadata": {
      "needs_background": "light"
     },
     "output_type": "display_data"
    }
   ],
   "source": [
    "plot_flux_envelope(sim,BIOMASS_ID,PRODUCT_ID,constraints = lista_reaction_constraints[2])"
   ]
  },
  {
   "cell_type": "code",
   "execution_count": 38,
   "metadata": {},
   "outputs": [
    {
     "data": {
      "text/plain": [
       "<matplotlib.axes._subplots.AxesSubplot at 0x1e3de3918b0>"
      ]
     },
     "execution_count": 38,
     "metadata": {},
     "output_type": "execute_result"
    },
    {
     "data": {
      "image/png": "[encoded data removed]",
      "text/plain": [
       "<Figure size 432x288 with 1 Axes>"
      ]
     },
     "metadata": {
      "needs_background": "light"
     },
     "output_type": "display_data"
    }
   ],
   "source": [
    "plot_flux_envelope(sim,BIOMASS_ID,PRODUCT_ID,constraints = lista_reaction_constraints[1])"
   ]
  },
  {
   "cell_type": "code",
   "execution_count": 39,
   "metadata": {},
   "outputs": [
    {
     "data": {
      "text/plain": [
       "<matplotlib.axes._subplots.AxesSubplot at 0x1e3de3598b0>"
      ]
     },
     "execution_count": 39,
     "metadata": {},
     "output_type": "execute_result"
    },
    {
     "data": {
      "image/png": "[encoded data removed]",
      "text/plain": [
       "<Figure size 432x288 with 1 Axes>"
      ]
     },
     "metadata": {
      "needs_background": "light"
     },
     "output_type": "display_data"
    }
   ],
   "source": [
    "plot_flux_envelope(sim,BIOMASS_ID,PRODUCT_ID,constraints = lista_reaction_constraints[0])"
   ]
  }
 ],
 "metadata": {
  "kernelspec": {
   "display_name": "Python 3.9.7 64-bit",
   "language": "python",
   "name": "python3"
  },
  "language_info": {
   "codemirror_mode": {
    "name": "ipython",
    "version": 3
   },
   "file_extension": ".py",
   "mimetype": "text/x-python",
   "name": "python",
   "nbconvert_exporter": "python",
   "pygments_lexer": "ipython3",
   "version": "3.9.7"
  },
  "orig_nbformat": 4,
  "vscode": {
   "interpreter": {
    "hash": "d2d8da339796ec72fc4a485e0507aa344a7245dbebe46e83aee7af4ec564b7bb"
   }
  }
 },
 "nbformat": 4,
 "nbformat_minor": 2
}
