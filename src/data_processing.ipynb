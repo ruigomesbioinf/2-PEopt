{
 "cells": [
  {
   "cell_type": "markdown",
   "metadata": {},
   "source": [
    "## ***SACHAROMYCES CEREVISIAE*** OPTIMIZATION OUTPUT DATA PROCESSING"
   ]
  },
  {
   "cell_type": "markdown",
   "metadata": {},
   "source": [
    "Since we've runned 10 Gene Over/Under expression optimization problem we've quite a lot of results to carefully interpret. We'll be using pandas (a powerful python library to handle data science preprocessing stages). <br> First we'll merge all 10 .csv file into 1 .csv file to better understand our data and preform various preprocessing steps to gather only the best solutions possible for our problem."
   ]
  },
  {
   "cell_type": "code",
   "execution_count": 2,
   "metadata": {},
   "outputs": [
    {
     "name": "stdout",
     "output_type": "stream",
     "text": [
      "This dataframe has: 189 rows and 7 columns.\n",
      "This dataframe has: 189 rows and 5 columns after manipulation.\n"
     ]
    }
   ],
   "source": [
    "import os\n",
    "import glob\n",
    "import pandas as pd\n",
    "\n",
    "# pandas has a set_option method that let you costumize the behaviour and display of dataframes\n",
    "# here the set_option method is set to display the full contents of our dataframe\n",
    "# pd.set_option(\"display.max_rows\", None)\n",
    "# pd.options.display.max_rows = 15\n",
    "\n",
    "# setting the path to join multiple files \n",
    "files = os.path.join(r'C:\\Users\\geral\\Desktop\\BIOINF_PROJECT\\2-PEopt\\src\\outputGOU', \"*.csv\")\n",
    "\n",
    "# return a list of the merged files\n",
    "files = glob.glob(files)\n",
    "\n",
    "# using pandas methods concat and read_csv to join files\n",
    "df = pd.concat([pd.read_csv(f, sep=\";\", index_col=False) for f in files], ignore_index=True)\n",
    "print(f\"This dataframe has: {df.shape[0]} rows and {df.shape[1]} columns.\")\n",
    "\n",
    "# pandas dataframe manipulation to drop unnecessary columns (columns only with NaN values)\n",
    "df.drop([\"Unnamed: 3\", \"solution\"], axis=1, inplace=True)\n",
    "print(f\"This dataframe has: {df.shape[0]} rows and {df.shape[1]} columns after manipulation.\")\n",
    "\n",
    "# change column names\n",
    "df.rename(columns={\"Unnamed: 4\": \"Genes\", \"Unnamed: 6\": \"Reactions\"}, inplace=True)\n"
   ]
  },
  {
   "cell_type": "code",
   "execution_count": 3,
   "metadata": {},
   "outputs": [
    {
     "data": {
      "text/html": [
       "<div>\n",
       "<style scoped>\n",
       "    .dataframe tbody tr th:only-of-type {\n",
       "        vertical-align: middle;\n",
       "    }\n",
       "\n",
       "    .dataframe tbody tr th {\n",
       "        vertical-align: top;\n",
       "    }\n",
       "\n",
       "    .dataframe thead th {\n",
       "        text-align: right;\n",
       "    }\n",
       "</style>\n",
       "<table border=\"1\" class=\"dataframe\">\n",
       "  <thead>\n",
       "    <tr style=\"text-align: right;\">\n",
       "      <th></th>\n",
       "      <th>BPCY (r_4041 * r_1589)</th>\n",
       "      <th>TargetFlux r_4041 with at least 0.0 of biomass (None)</th>\n",
       "      <th>WYIELD biomass: r_4041 product: r_1589</th>\n",
       "      <th>Genes</th>\n",
       "      <th>Reactions</th>\n",
       "    </tr>\n",
       "  </thead>\n",
       "  <tbody>\n",
       "    <tr>\n",
       "      <th>0</th>\n",
       "      <td>0.000000</td>\n",
       "      <td>0.000000</td>\n",
       "      <td>0.000000</td>\n",
       "      <td>{'YBR166C': 0.25, 'YNL220W': 0.125, 'YIL043C':...</td>\n",
       "      <td>{'r_0714': 0, 'r_0020': (2.6153065645050235, 1...</td>\n",
       "    </tr>\n",
       "    <tr>\n",
       "      <th>1</th>\n",
       "      <td>0.000000</td>\n",
       "      <td>0.000000</td>\n",
       "      <td>0.000000</td>\n",
       "      <td>{'YBR166C': 0.25, 'YNL220W': 0.125, 'YGL063W':...</td>\n",
       "      <td>{'r_0714': 0, 'r_0020': (2.6153065645050084, 1...</td>\n",
       "    </tr>\n",
       "    <tr>\n",
       "      <th>2</th>\n",
       "      <td>0.000000</td>\n",
       "      <td>0.000000</td>\n",
       "      <td>0.000000</td>\n",
       "      <td>{'YDR305C': 0.5, 'YGR208W': 0.25, 'YOL126C': 0...</td>\n",
       "      <td>{'r_1025': (0, 0), 'r_0714': 0, 'r_0138': (0.0...</td>\n",
       "    </tr>\n",
       "    <tr>\n",
       "      <th>3</th>\n",
       "      <td>0.000000</td>\n",
       "      <td>0.000000</td>\n",
       "      <td>0.000000</td>\n",
       "      <td>{'YDR305C': 0.5, 'YNL241C': 4, 'YGR208W': 0.25...</td>\n",
       "      <td>{'r_1025': (0, 0), 'r_0714': 0, 'r_0138': (0.0...</td>\n",
       "    </tr>\n",
       "    <tr>\n",
       "      <th>4</th>\n",
       "      <td>0.000000</td>\n",
       "      <td>0.000000</td>\n",
       "      <td>0.000000</td>\n",
       "      <td>{'YDR305C': 0.5, 'YNL241C': 4, 'YGR208W': 0.25...</td>\n",
       "      <td>{'r_1025': (0, 0), 'r_0714': 0, 'r_0138': (0.0...</td>\n",
       "    </tr>\n",
       "    <tr>\n",
       "      <th>...</th>\n",
       "      <td>...</td>\n",
       "      <td>...</td>\n",
       "      <td>...</td>\n",
       "      <td>...</td>\n",
       "      <td>...</td>\n",
       "    </tr>\n",
       "    <tr>\n",
       "      <th>184</th>\n",
       "      <td>0.650626</td>\n",
       "      <td>0.598086</td>\n",
       "      <td>0.351609</td>\n",
       "      <td>{'YMR267W': 2, 'YLR308W': 2, 'YNL331C': 0.25, ...</td>\n",
       "      <td>{'r_1069': 0, 'r_0468': (0, 0), 'r_1109': (0, ...</td>\n",
       "    </tr>\n",
       "    <tr>\n",
       "      <th>185</th>\n",
       "      <td>0.249412</td>\n",
       "      <td>0.094355</td>\n",
       "      <td>1.269405</td>\n",
       "      <td>{'YJR103W': 16, 'YJL121C': 4, 'YFL058W': 0.125...</td>\n",
       "      <td>{'r_0279': (2.644694430440478, 10000), 'r_0307...</td>\n",
       "    </tr>\n",
       "    <tr>\n",
       "      <th>186</th>\n",
       "      <td>0.090259</td>\n",
       "      <td>0.094355</td>\n",
       "      <td>1.319482</td>\n",
       "      <td>{'YPL262W': 2, 'YGR193C': 0.125, 'YJL121C': 2,...</td>\n",
       "      <td>{'r_0279': (2.6446944304404685, 10000), 'r_045...</td>\n",
       "    </tr>\n",
       "    <tr>\n",
       "      <th>187</th>\n",
       "      <td>0.054513</td>\n",
       "      <td>0.094355</td>\n",
       "      <td>1.265827</td>\n",
       "      <td>{'YPL262W': 2, 'YNL191W': 0, 'YGL148W': 4, 'YF...</td>\n",
       "      <td>{'r_4171': (0, 0), 'r_0279': (1.32234721522023...</td>\n",
       "    </tr>\n",
       "    <tr>\n",
       "      <th>188</th>\n",
       "      <td>0.185122</td>\n",
       "      <td>0.094355</td>\n",
       "      <td>1.265827</td>\n",
       "      <td>{'YER175C': 32, 'YFL058W': 0.125, 'YKL152C': 0...</td>\n",
       "      <td>{'r_0356': 0, 'r_0279': (2.644694430440529, 10...</td>\n",
       "    </tr>\n",
       "  </tbody>\n",
       "</table>\n",
       "<p>189 rows × 5 columns</p>\n",
       "</div>"
      ],
      "text/plain": [
       "     BPCY (r_4041 * r_1589)  \\\n",
       "0                  0.000000   \n",
       "1                  0.000000   \n",
       "2                  0.000000   \n",
       "3                  0.000000   \n",
       "4                  0.000000   \n",
       "..                      ...   \n",
       "184                0.650626   \n",
       "185                0.249412   \n",
       "186                0.090259   \n",
       "187                0.054513   \n",
       "188                0.185122   \n",
       "\n",
       "     TargetFlux r_4041 with at least 0.0 of biomass (None)  \\\n",
       "0                                             0.000000       \n",
       "1                                             0.000000       \n",
       "2                                             0.000000       \n",
       "3                                             0.000000       \n",
       "4                                             0.000000       \n",
       "..                                                 ...       \n",
       "184                                           0.598086       \n",
       "185                                           0.094355       \n",
       "186                                           0.094355       \n",
       "187                                           0.094355       \n",
       "188                                           0.094355       \n",
       "\n",
       "     WYIELD biomass: r_4041 product: r_1589   \\\n",
       "0                                   0.000000   \n",
       "1                                   0.000000   \n",
       "2                                   0.000000   \n",
       "3                                   0.000000   \n",
       "4                                   0.000000   \n",
       "..                                       ...   \n",
       "184                                 0.351609   \n",
       "185                                 1.269405   \n",
       "186                                 1.319482   \n",
       "187                                 1.265827   \n",
       "188                                 1.265827   \n",
       "\n",
       "                                                 Genes  \\\n",
       "0    {'YBR166C': 0.25, 'YNL220W': 0.125, 'YIL043C':...   \n",
       "1    {'YBR166C': 0.25, 'YNL220W': 0.125, 'YGL063W':...   \n",
       "2    {'YDR305C': 0.5, 'YGR208W': 0.25, 'YOL126C': 0...   \n",
       "3    {'YDR305C': 0.5, 'YNL241C': 4, 'YGR208W': 0.25...   \n",
       "4    {'YDR305C': 0.5, 'YNL241C': 4, 'YGR208W': 0.25...   \n",
       "..                                                 ...   \n",
       "184  {'YMR267W': 2, 'YLR308W': 2, 'YNL331C': 0.25, ...   \n",
       "185  {'YJR103W': 16, 'YJL121C': 4, 'YFL058W': 0.125...   \n",
       "186  {'YPL262W': 2, 'YGR193C': 0.125, 'YJL121C': 2,...   \n",
       "187  {'YPL262W': 2, 'YNL191W': 0, 'YGL148W': 4, 'YF...   \n",
       "188  {'YER175C': 32, 'YFL058W': 0.125, 'YKL152C': 0...   \n",
       "\n",
       "                                             Reactions  \n",
       "0    {'r_0714': 0, 'r_0020': (2.6153065645050235, 1...  \n",
       "1    {'r_0714': 0, 'r_0020': (2.6153065645050084, 1...  \n",
       "2    {'r_1025': (0, 0), 'r_0714': 0, 'r_0138': (0.0...  \n",
       "3    {'r_1025': (0, 0), 'r_0714': 0, 'r_0138': (0.0...  \n",
       "4    {'r_1025': (0, 0), 'r_0714': 0, 'r_0138': (0.0...  \n",
       "..                                                 ...  \n",
       "184  {'r_1069': 0, 'r_0468': (0, 0), 'r_1109': (0, ...  \n",
       "185  {'r_0279': (2.644694430440478, 10000), 'r_0307...  \n",
       "186  {'r_0279': (2.6446944304404685, 10000), 'r_045...  \n",
       "187  {'r_4171': (0, 0), 'r_0279': (1.32234721522023...  \n",
       "188  {'r_0356': 0, 'r_0279': (2.644694430440529, 10...  \n",
       "\n",
       "[189 rows x 5 columns]"
      ]
     },
     "metadata": {},
     "output_type": "display_data"
    }
   ],
   "source": [
    "# cell to display part of out dataframe\n",
    "display(df)"
   ]
  },
  {
   "cell_type": "markdown",
   "metadata": {},
   "source": [
    "Our first step to achieve a desirable solution is to drop all rows that doesn't correlate with our objetive: Biomass > 0.1 <br> So let's drop some rows and see what we have."
   ]
  },
  {
   "cell_type": "code",
   "execution_count": 4,
   "metadata": {},
   "outputs": [
    {
     "name": "stdout",
     "output_type": "stream",
     "text": [
      "This dataframe has 115 rows and 5 columns after deleting all rows with biomass inferior to 0.1.\n"
     ]
    },
    {
     "data": {
      "text/html": [
       "<div>\n",
       "<style scoped>\n",
       "    .dataframe tbody tr th:only-of-type {\n",
       "        vertical-align: middle;\n",
       "    }\n",
       "\n",
       "    .dataframe tbody tr th {\n",
       "        vertical-align: top;\n",
       "    }\n",
       "\n",
       "    .dataframe thead th {\n",
       "        text-align: right;\n",
       "    }\n",
       "</style>\n",
       "<table border=\"1\" class=\"dataframe\">\n",
       "  <thead>\n",
       "    <tr style=\"text-align: right;\">\n",
       "      <th></th>\n",
       "      <th>BPCY (r_4041 * r_1589)</th>\n",
       "      <th>TargetFlux r_4041 with at least 0.0 of biomass (None)</th>\n",
       "      <th>WYIELD biomass: r_4041 product: r_1589</th>\n",
       "      <th>Genes</th>\n",
       "      <th>Reactions</th>\n",
       "    </tr>\n",
       "  </thead>\n",
       "  <tbody>\n",
       "    <tr>\n",
       "      <th>0</th>\n",
       "      <td>0.471155</td>\n",
       "      <td>0.189779</td>\n",
       "      <td>0.972732</td>\n",
       "      <td>{'YGL063W': 8, 'YIL043C': 0.03125, 'YOL126C': ...</td>\n",
       "      <td>{'r_0714': 0, 'r_0020': (2.6153065645050195, 1...</td>\n",
       "    </tr>\n",
       "    <tr>\n",
       "      <th>1</th>\n",
       "      <td>0.492589</td>\n",
       "      <td>0.187592</td>\n",
       "      <td>1.648812</td>\n",
       "      <td>{'YBR166C': 0.25, 'YOL126C': 0, 'YBR249C': 8, ...</td>\n",
       "      <td>{'r_0714': 0, 'r_0020': (2.615306564505013, 10...</td>\n",
       "    </tr>\n",
       "    <tr>\n",
       "      <th>2</th>\n",
       "      <td>0.470345</td>\n",
       "      <td>0.189315</td>\n",
       "      <td>0.988020</td>\n",
       "      <td>{'YDL085W': 0.25, 'YGL065C': 0, 'YBR249C': 8, ...</td>\n",
       "      <td>{'r_4244': 0, 'r_0714': 0, 'r_4243': 0, 'r_002...</td>\n",
       "    </tr>\n",
       "    <tr>\n",
       "      <th>3</th>\n",
       "      <td>0.492589</td>\n",
       "      <td>0.187592</td>\n",
       "      <td>1.794705</td>\n",
       "      <td>{'YBR166C': 0.25, 'YDL085W': 0.25, 'Q0105': 16...</td>\n",
       "      <td>{'r_0714': 0, 'r_0020': (2.615306564505009, 10...</td>\n",
       "    </tr>\n",
       "    <tr>\n",
       "      <th>4</th>\n",
       "      <td>0.492589</td>\n",
       "      <td>0.187592</td>\n",
       "      <td>1.794705</td>\n",
       "      <td>{'YBR166C': 0.25, 'YDL085W': 0.25, 'Q0105': 16...</td>\n",
       "      <td>{'r_0714': 0, 'r_0020': (2.615306564505013, 10...</td>\n",
       "    </tr>\n",
       "    <tr>\n",
       "      <th>...</th>\n",
       "      <td>...</td>\n",
       "      <td>...</td>\n",
       "      <td>...</td>\n",
       "      <td>...</td>\n",
       "      <td>...</td>\n",
       "    </tr>\n",
       "    <tr>\n",
       "      <th>110</th>\n",
       "      <td>0.650626</td>\n",
       "      <td>0.598086</td>\n",
       "      <td>0.351609</td>\n",
       "      <td>{'YMR267W': 2, 'YLR308W': 2, 'YNL331C': 0.25, ...</td>\n",
       "      <td>{'r_0468': (0, 0), 'r_4250': 0, 'r_1069': 0, '...</td>\n",
       "    </tr>\n",
       "    <tr>\n",
       "      <th>111</th>\n",
       "      <td>0.650626</td>\n",
       "      <td>0.598086</td>\n",
       "      <td>0.351609</td>\n",
       "      <td>{'YMR267W': 2, 'YLR308W': 2, 'YNL331C': 0.25, ...</td>\n",
       "      <td>{'r_1069': 0, 'r_0468': (0, 0), 'r_1109': (0, ...</td>\n",
       "    </tr>\n",
       "    <tr>\n",
       "      <th>112</th>\n",
       "      <td>0.650626</td>\n",
       "      <td>0.598086</td>\n",
       "      <td>0.351609</td>\n",
       "      <td>{'YMR267W': 2, 'YLR308W': 2, 'YNL331C': 0.25, ...</td>\n",
       "      <td>{'r_1069': 0, 'r_0468': (0, 0), 'r_1109': (0, ...</td>\n",
       "    </tr>\n",
       "    <tr>\n",
       "      <th>113</th>\n",
       "      <td>0.249412</td>\n",
       "      <td>0.094355</td>\n",
       "      <td>1.269405</td>\n",
       "      <td>{'YJR103W': 16, 'YJL121C': 4, 'YFL058W': 0.125...</td>\n",
       "      <td>{'r_0279': (2.644694430440478, 10000), 'r_0307...</td>\n",
       "    </tr>\n",
       "    <tr>\n",
       "      <th>114</th>\n",
       "      <td>0.185122</td>\n",
       "      <td>0.094355</td>\n",
       "      <td>1.265827</td>\n",
       "      <td>{'YER175C': 32, 'YFL058W': 0.125, 'YKL152C': 0...</td>\n",
       "      <td>{'r_0356': 0, 'r_0279': (2.644694430440529, 10...</td>\n",
       "    </tr>\n",
       "  </tbody>\n",
       "</table>\n",
       "<p>115 rows × 5 columns</p>\n",
       "</div>"
      ],
      "text/plain": [
       "     BPCY (r_4041 * r_1589)  \\\n",
       "0                  0.471155   \n",
       "1                  0.492589   \n",
       "2                  0.470345   \n",
       "3                  0.492589   \n",
       "4                  0.492589   \n",
       "..                      ...   \n",
       "110                0.650626   \n",
       "111                0.650626   \n",
       "112                0.650626   \n",
       "113                0.249412   \n",
       "114                0.185122   \n",
       "\n",
       "     TargetFlux r_4041 with at least 0.0 of biomass (None)  \\\n",
       "0                                             0.189779       \n",
       "1                                             0.187592       \n",
       "2                                             0.189315       \n",
       "3                                             0.187592       \n",
       "4                                             0.187592       \n",
       "..                                                 ...       \n",
       "110                                           0.598086       \n",
       "111                                           0.598086       \n",
       "112                                           0.598086       \n",
       "113                                           0.094355       \n",
       "114                                           0.094355       \n",
       "\n",
       "     WYIELD biomass: r_4041 product: r_1589   \\\n",
       "0                                   0.972732   \n",
       "1                                   1.648812   \n",
       "2                                   0.988020   \n",
       "3                                   1.794705   \n",
       "4                                   1.794705   \n",
       "..                                       ...   \n",
       "110                                 0.351609   \n",
       "111                                 0.351609   \n",
       "112                                 0.351609   \n",
       "113                                 1.269405   \n",
       "114                                 1.265827   \n",
       "\n",
       "                                                 Genes  \\\n",
       "0    {'YGL063W': 8, 'YIL043C': 0.03125, 'YOL126C': ...   \n",
       "1    {'YBR166C': 0.25, 'YOL126C': 0, 'YBR249C': 8, ...   \n",
       "2    {'YDL085W': 0.25, 'YGL065C': 0, 'YBR249C': 8, ...   \n",
       "3    {'YBR166C': 0.25, 'YDL085W': 0.25, 'Q0105': 16...   \n",
       "4    {'YBR166C': 0.25, 'YDL085W': 0.25, 'Q0105': 16...   \n",
       "..                                                 ...   \n",
       "110  {'YMR267W': 2, 'YLR308W': 2, 'YNL331C': 0.25, ...   \n",
       "111  {'YMR267W': 2, 'YLR308W': 2, 'YNL331C': 0.25, ...   \n",
       "112  {'YMR267W': 2, 'YLR308W': 2, 'YNL331C': 0.25, ...   \n",
       "113  {'YJR103W': 16, 'YJL121C': 4, 'YFL058W': 0.125...   \n",
       "114  {'YER175C': 32, 'YFL058W': 0.125, 'YKL152C': 0...   \n",
       "\n",
       "                                             Reactions  \n",
       "0    {'r_0714': 0, 'r_0020': (2.6153065645050195, 1...  \n",
       "1    {'r_0714': 0, 'r_0020': (2.615306564505013, 10...  \n",
       "2    {'r_4244': 0, 'r_0714': 0, 'r_4243': 0, 'r_002...  \n",
       "3    {'r_0714': 0, 'r_0020': (2.615306564505009, 10...  \n",
       "4    {'r_0714': 0, 'r_0020': (2.615306564505013, 10...  \n",
       "..                                                 ...  \n",
       "110  {'r_0468': (0, 0), 'r_4250': 0, 'r_1069': 0, '...  \n",
       "111  {'r_1069': 0, 'r_0468': (0, 0), 'r_1109': (0, ...  \n",
       "112  {'r_1069': 0, 'r_0468': (0, 0), 'r_1109': (0, ...  \n",
       "113  {'r_0279': (2.644694430440478, 10000), 'r_0307...  \n",
       "114  {'r_0356': 0, 'r_0279': (2.644694430440529, 10...  \n",
       "\n",
       "[115 rows x 5 columns]"
      ]
     },
     "execution_count": 4,
     "metadata": {},
     "output_type": "execute_result"
    }
   ],
   "source": [
    "df.drop(df[df[\"BPCY (r_4041 * r_1589)\"] < 0.1].index, inplace=True)\n",
    "print(f\"This dataframe has {df.shape[0]} rows and {df.shape[1]} columns after deleting all rows with biomass inferior to 0.1.\")\n",
    "df.reset_index(drop=True)"
   ]
  },
  {
   "cell_type": "markdown",
   "metadata": {},
   "source": [
    "In order to analyse the natural maximum 2-phenylethanol production capabilities of *Sacharomyces cerevisiae* we perform a FVA analysis on the YEAST8 model using MEWpy"
   ]
  },
  {
   "cell_type": "code",
   "execution_count": 5,
   "metadata": {},
   "outputs": [
    {
     "name": "stdout",
     "output_type": "stream",
     "text": [
      "  Reaction ID  Minimum   Maximum\n",
      "0      r_1589      0.0  0.927562\n"
     ]
    }
   ],
   "source": [
    "from cobra.io import read_sbml_model\n",
    "from mewpy.simulation import get_simulator\n",
    "\n",
    "model = read_sbml_model(\"models/yeast-GEM.xml\")\n",
    "\n",
    "O2 = \"r_1992\" # EX_o2_e (r_1992)\n",
    "GLC = \"r_1714\" # EX_glc__D_e (r_1714)\n",
    "\n",
    "envcond = {\n",
    "        O2: (-20.0, 100000.0), \n",
    "        GLC: (-10.0, 100000.0)\n",
    "        }\n",
    "\n",
    "PRODUCT_ID = \"r_1589\" # EX_2phetoh_e (r_1589)\n",
    "\n",
    "simul = get_simulator(model, envcond=envcond)\n",
    "print(simul.FVA(reactions = [PRODUCT_ID], format = 'df'))"
   ]
  },
  {
   "cell_type": "markdown",
   "metadata": {},
   "source": [
    "However, by analysing our optimization results within our dataframe we can actually see that there are a set of modifications that increases the *Sacharomyces cerevisiae* natural production capabilities of 2-phenylethanol by almost 4 times."
   ]
  },
  {
   "cell_type": "code",
   "execution_count": 6,
   "metadata": {},
   "outputs": [
    {
     "name": "stdout",
     "output_type": "stream",
     "text": [
      "Minimum FVA: 0.1517507097982077\n",
      "Maximum FVA: 3.70211854292926\n"
     ]
    }
   ],
   "source": [
    "print(f\"Minimum FVA: {df['WYIELD biomass: r_4041 product: r_1589 '].min()}\")\n",
    "print(f\"Maximum FVA: {df['WYIELD biomass: r_4041 product: r_1589 '].max()}\")\n"
   ]
  },
  {
   "cell_type": "code",
   "execution_count": 7,
   "metadata": {},
   "outputs": [
    {
     "data": {
      "text/html": [
       "<div>\n",
       "<style scoped>\n",
       "    .dataframe tbody tr th:only-of-type {\n",
       "        vertical-align: middle;\n",
       "    }\n",
       "\n",
       "    .dataframe tbody tr th {\n",
       "        vertical-align: top;\n",
       "    }\n",
       "\n",
       "    .dataframe thead th {\n",
       "        text-align: right;\n",
       "    }\n",
       "</style>\n",
       "<table border=\"1\" class=\"dataframe\">\n",
       "  <thead>\n",
       "    <tr style=\"text-align: right;\">\n",
       "      <th></th>\n",
       "      <th>BPCY (r_4041 * r_1589)</th>\n",
       "      <th>TargetFlux r_4041 with at least 0.0 of biomass (None)</th>\n",
       "      <th>WYIELD biomass: r_4041 product: r_1589</th>\n",
       "      <th>Genes</th>\n",
       "      <th>Reactions</th>\n",
       "    </tr>\n",
       "  </thead>\n",
       "  <tbody>\n",
       "    <tr>\n",
       "      <th>128</th>\n",
       "      <td>0.311934</td>\n",
       "      <td>0.077422</td>\n",
       "      <td>3.702119</td>\n",
       "      <td>{'YGR256W': 2, 'YDL198C': 0.0625, 'YLR359W': 0...</td>\n",
       "      <td>{'r_0151': (0, 0.08376934531786118), 'r_0152':...</td>\n",
       "    </tr>\n",
       "  </tbody>\n",
       "</table>\n",
       "</div>"
      ],
      "text/plain": [
       "     BPCY (r_4041 * r_1589)  \\\n",
       "128                0.311934   \n",
       "\n",
       "     TargetFlux r_4041 with at least 0.0 of biomass (None)  \\\n",
       "128                                           0.077422       \n",
       "\n",
       "     WYIELD biomass: r_4041 product: r_1589   \\\n",
       "128                                 3.702119   \n",
       "\n",
       "                                                 Genes  \\\n",
       "128  {'YGR256W': 2, 'YDL198C': 0.0625, 'YLR359W': 0...   \n",
       "\n",
       "                                             Reactions  \n",
       "128  {'r_0151': (0, 0.08376934531786118), 'r_0152':...  "
      ]
     },
     "execution_count": 7,
     "metadata": {},
     "output_type": "execute_result"
    }
   ],
   "source": [
    "# get the row which corresponds with our maximum level of WYIELD\n",
    "df.loc[df[\"WYIELD biomass: r_4041 product: r_1589 \"] == df[\"WYIELD biomass: r_4041 product: r_1589 \"].max()]\n"
   ]
  },
  {
   "cell_type": "code",
   "execution_count": 8,
   "metadata": {},
   "outputs": [
    {
     "name": "stdout",
     "output_type": "stream",
     "text": [
      "Genes: {'YGR256W': 2, 'YDL198C': 0.0625, 'YLR359W': 0.5, 'YCL050C': 2, 'YDR497C': 0.25, 'YNL316C': 32, 'Q0045': 0.25, 'YPR145W': 16}\n",
      "Reactions: {'r_0151': (0, 0.08376934531786118), 'r_0152': (0, 0.09484195786964987), 'r_0211': (1.469947402640923, 10000), 'r_0438': (0, 19.307971581669833), 'r_0889': (7.068834785461117, 10000), 'r_0938': (3.8707169858806956, 10000), 'r_1026': (0.10382579193452601, 10000)}\n"
     ]
    }
   ],
   "source": [
    "print(f\"Genes: {df['Genes'][128]}\")\n",
    "print(f\"Reactions: {df['Reactions'][128]}\")"
   ]
  },
  {
   "cell_type": "markdown",
   "metadata": {},
   "source": [
    "Our goal now is to reduce even more our pool of possible solutions by choosing the ones that have less genetic modifications. For that we will convert the dataframe solution values to a dictionary and from there we will be able to check the ones that are more suitable within our main goal. <br>\n",
    "**ast** library makes transforming a dictionary formatted string into a python dictionary object."
   ]
  },
  {
   "cell_type": "code",
   "execution_count": 25,
   "metadata": {},
   "outputs": [
    {
     "data": {
      "text/plain": [
       "[{'YPR060C': 16, 'YFR033C': 0.5, 'YKL060C': 0.25},\n",
       " {'YBR249C': 8, 'YKL029C': 0, 'YDR298C': 0.25, 'YDR354W': 16},\n",
       " {'YDR298C': 0.5, 'YBR218C': 2, 'YBR249C': 8, 'YKL029C': 0},\n",
       " {'YBR249C': 8, 'YKL029C': 0, 'YDR298C': 0.25, 'YJR024C': 4},\n",
       " {'YBR249C': 8, 'YKL029C': 0, 'YDR298C': 0.25},\n",
       " {'YPL028W': 0, 'YMR105C': 8, 'YNL316C': 32, 'YOR065W': 0.5},\n",
       " {'YDL205C': 0.25, 'YHR183W': 4, 'YNL316C': 8, 'YER043C': 16},\n",
       " {'YPL028W': 0, 'YNL316C': 32, 'YOR065W': 0.5},\n",
       " {'YAL054C': 2, 'YBR249C': 8, 'YHR183W': 4, 'YPL214C': 0.125},\n",
       " {'YGR256W': 2, 'YNL316C': 32, 'Q0045': 0.25},\n",
       " {'YPR145W': 32, 'YNL316C': 16, 'YGR256W': 4, 'Q0045': 0.5}]"
      ]
     },
     "execution_count": 25,
     "metadata": {},
     "output_type": "execute_result"
    }
   ],
   "source": [
    "import ast\n",
    "\n",
    "genes = [ast.literal_eval(x) for x in df[\"Genes\"]]\n",
    "genes2 = [i for i in genes if len(i) < 5]\n",
    "genes2\n",
    "\n"
   ]
  },
  {
   "cell_type": "code",
   "execution_count": 18,
   "metadata": {},
   "outputs": [
    {
     "data": {
      "text/plain": [
       "{'r_0144': (1.7631496590944593, 10000),\n",
       " 'r_0557': (0, 1.9660901513046476e-07),\n",
       " 'r_0889': (14.137669570922139, 10000),\n",
       " 'r_0938': (0.9676792464701721, 10000)}"
      ]
     },
     "execution_count": 18,
     "metadata": {},
     "output_type": "execute_result"
    }
   ],
   "source": [
    "import ast\n",
    "\n",
    "reactions = [ast.literal_eval(x) for x in df[\"Reactions\"]]\n",
    "reaction2 = [i for i in reactions if len(i) < 5]\n",
    "reaction2[2]"
   ]
  },
  {
   "cell_type": "code",
   "execution_count": null,
   "metadata": {},
   "outputs": [],
   "source": []
  }
 ],
 "metadata": {
  "kernelspec": {
   "display_name": "Python 3.9.7 64-bit",
   "language": "python",
   "name": "python3"
  },
  "language_info": {
   "codemirror_mode": {
    "name": "ipython",
    "version": 3
   },
   "file_extension": ".py",
   "mimetype": "text/x-python",
   "name": "python",
   "nbconvert_exporter": "python",
   "pygments_lexer": "ipython3",
   "version": "3.9.7"
  },
  "orig_nbformat": 4,
  "vscode": {
   "interpreter": {
    "hash": "d2d8da339796ec72fc4a485e0507aa344a7245dbebe46e83aee7af4ec564b7bb"
   }
  }
 },
 "nbformat": 4,
 "nbformat_minor": 2
}
