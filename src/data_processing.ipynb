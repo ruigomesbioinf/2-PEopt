{
 "cells": [
  {
   "cell_type": "markdown",
   "metadata": {},
   "source": [
    "## ***SACHAROMYCES CEREVISIAE*** OPTIMIZATION OUTPUT DATA PROCESSING"
   ]
  },
  {
   "cell_type": "markdown",
   "metadata": {},
   "source": [
    "Since we've runned 10 Gene Over/Under expression optimization problem we've quite a lot of results to carefully interpret. We'll be using pandas (a powerful python library to handle data science preprocessing stages). <br> First we'll merge all 10 .csv file into 1 .csv file to better understand our data and preform various preprocessing steps to gather only the best solutions possible for our problem."
   ]
  },
  {
   "cell_type": "code",
   "execution_count": 145,
   "metadata": {},
   "outputs": [
    {
     "name": "stdout",
     "output_type": "stream",
     "text": [
      "This dataframe has: 189 rows and 7 columns.\n",
      "This dataframe has: 189 rows and 5 columns after manipulation.\n"
     ]
    }
   ],
   "source": [
    "import os\n",
    "import glob\n",
    "import pandas as pd\n",
    "import warnings\n",
    "\n",
    "warnings.filterwarnings(\"ignore\")\n",
    "\n",
    "# pandas has a set_option method that let you costumize the behaviour and display of dataframes\n",
    "# here the set_option method is set to display the full contents of our dataframe\n",
    "# pd.set_option(\"display.max_rows\", None)\n",
    "# pd.options.display.max_rows = 15\n",
    "\n",
    "# setting the path to join multiple files \n",
    "files = os.path.join(r'C:\\Users\\geral\\Desktop\\BIOINF_PROJECT\\2-PEopt\\src\\outputGOU', \"*.csv\")\n",
    "\n",
    "# return a list of the merged files\n",
    "files = glob.glob(files)\n",
    "\n",
    "# using pandas methods concat and read_csv to join files\n",
    "df = pd.concat([pd.read_csv(f, sep=\";\", index_col=False) for f in files], ignore_index=True)\n",
    "print(f\"This dataframe has: {df.shape[0]} rows and {df.shape[1]} columns.\")\n",
    "\n",
    "# pandas dataframe manipulation to drop unnecessary columns (columns only with NaN values)\n",
    "df.drop([\"Unnamed: 3\", \"solution\"], axis=1, inplace=True)\n",
    "print(f\"This dataframe has: {df.shape[0]} rows and {df.shape[1]} columns after manipulation.\")\n",
    "\n",
    "# change column names\n",
    "df.rename(columns={\"Unnamed: 4\": \"Genes\", \"Unnamed: 6\": \"Reactions\"}, inplace=True)\n"
   ]
  },
  {
   "cell_type": "code",
   "execution_count": 146,
   "metadata": {},
   "outputs": [
    {
     "data": {
      "text/html": [
       "<div>\n",
       "<style scoped>\n",
       "    .dataframe tbody tr th:only-of-type {\n",
       "        vertical-align: middle;\n",
       "    }\n",
       "\n",
       "    .dataframe tbody tr th {\n",
       "        vertical-align: top;\n",
       "    }\n",
       "\n",
       "    .dataframe thead th {\n",
       "        text-align: right;\n",
       "    }\n",
       "</style>\n",
       "<table border=\"1\" class=\"dataframe\">\n",
       "  <thead>\n",
       "    <tr style=\"text-align: right;\">\n",
       "      <th></th>\n",
       "      <th>BPCY (r_4041 * r_1589)</th>\n",
       "      <th>TargetFlux r_4041 with at least 0.0 of biomass (None)</th>\n",
       "      <th>WYIELD biomass: r_4041 product: r_1589</th>\n",
       "      <th>Genes</th>\n",
       "      <th>Reactions</th>\n",
       "    </tr>\n",
       "  </thead>\n",
       "  <tbody>\n",
       "    <tr>\n",
       "      <th>0</th>\n",
       "      <td>0.000000</td>\n",
       "      <td>0.000000</td>\n",
       "      <td>0.000000</td>\n",
       "      <td>{'YBR166C': 0.25, 'YNL220W': 0.125, 'YIL043C':...</td>\n",
       "      <td>{'r_0714': 0, 'r_0020': (2.6153065645050235, 1...</td>\n",
       "    </tr>\n",
       "    <tr>\n",
       "      <th>1</th>\n",
       "      <td>0.000000</td>\n",
       "      <td>0.000000</td>\n",
       "      <td>0.000000</td>\n",
       "      <td>{'YBR166C': 0.25, 'YNL220W': 0.125, 'YGL063W':...</td>\n",
       "      <td>{'r_0714': 0, 'r_0020': (2.6153065645050084, 1...</td>\n",
       "    </tr>\n",
       "    <tr>\n",
       "      <th>2</th>\n",
       "      <td>0.000000</td>\n",
       "      <td>0.000000</td>\n",
       "      <td>0.000000</td>\n",
       "      <td>{'YDR305C': 0.5, 'YGR208W': 0.25, 'YOL126C': 0...</td>\n",
       "      <td>{'r_1025': (0, 0), 'r_0714': 0, 'r_0138': (0.0...</td>\n",
       "    </tr>\n",
       "    <tr>\n",
       "      <th>3</th>\n",
       "      <td>0.000000</td>\n",
       "      <td>0.000000</td>\n",
       "      <td>0.000000</td>\n",
       "      <td>{'YDR305C': 0.5, 'YNL241C': 4, 'YGR208W': 0.25...</td>\n",
       "      <td>{'r_1025': (0, 0), 'r_0714': 0, 'r_0138': (0.0...</td>\n",
       "    </tr>\n",
       "    <tr>\n",
       "      <th>4</th>\n",
       "      <td>0.000000</td>\n",
       "      <td>0.000000</td>\n",
       "      <td>0.000000</td>\n",
       "      <td>{'YDR305C': 0.5, 'YNL241C': 4, 'YGR208W': 0.25...</td>\n",
       "      <td>{'r_1025': (0, 0), 'r_0714': 0, 'r_0138': (0.0...</td>\n",
       "    </tr>\n",
       "    <tr>\n",
       "      <th>...</th>\n",
       "      <td>...</td>\n",
       "      <td>...</td>\n",
       "      <td>...</td>\n",
       "      <td>...</td>\n",
       "      <td>...</td>\n",
       "    </tr>\n",
       "    <tr>\n",
       "      <th>184</th>\n",
       "      <td>0.650626</td>\n",
       "      <td>0.598086</td>\n",
       "      <td>0.351609</td>\n",
       "      <td>{'YMR267W': 2, 'YLR308W': 2, 'YNL331C': 0.25, ...</td>\n",
       "      <td>{'r_1069': 0, 'r_0468': (0, 0), 'r_1109': (0, ...</td>\n",
       "    </tr>\n",
       "    <tr>\n",
       "      <th>185</th>\n",
       "      <td>0.249412</td>\n",
       "      <td>0.094355</td>\n",
       "      <td>1.269405</td>\n",
       "      <td>{'YJR103W': 16, 'YJL121C': 4, 'YFL058W': 0.125...</td>\n",
       "      <td>{'r_0279': (2.644694430440478, 10000), 'r_0307...</td>\n",
       "    </tr>\n",
       "    <tr>\n",
       "      <th>186</th>\n",
       "      <td>0.090259</td>\n",
       "      <td>0.094355</td>\n",
       "      <td>1.319482</td>\n",
       "      <td>{'YPL262W': 2, 'YGR193C': 0.125, 'YJL121C': 2,...</td>\n",
       "      <td>{'r_0279': (2.6446944304404685, 10000), 'r_045...</td>\n",
       "    </tr>\n",
       "    <tr>\n",
       "      <th>187</th>\n",
       "      <td>0.054513</td>\n",
       "      <td>0.094355</td>\n",
       "      <td>1.265827</td>\n",
       "      <td>{'YPL262W': 2, 'YNL191W': 0, 'YGL148W': 4, 'YF...</td>\n",
       "      <td>{'r_4171': (0, 0), 'r_0279': (1.32234721522023...</td>\n",
       "    </tr>\n",
       "    <tr>\n",
       "      <th>188</th>\n",
       "      <td>0.185122</td>\n",
       "      <td>0.094355</td>\n",
       "      <td>1.265827</td>\n",
       "      <td>{'YER175C': 32, 'YFL058W': 0.125, 'YKL152C': 0...</td>\n",
       "      <td>{'r_0356': 0, 'r_0279': (2.644694430440529, 10...</td>\n",
       "    </tr>\n",
       "  </tbody>\n",
       "</table>\n",
       "<p>189 rows × 5 columns</p>\n",
       "</div>"
      ],
      "text/plain": [
       "     BPCY (r_4041 * r_1589)  \\\n",
       "0                  0.000000   \n",
       "1                  0.000000   \n",
       "2                  0.000000   \n",
       "3                  0.000000   \n",
       "4                  0.000000   \n",
       "..                      ...   \n",
       "184                0.650626   \n",
       "185                0.249412   \n",
       "186                0.090259   \n",
       "187                0.054513   \n",
       "188                0.185122   \n",
       "\n",
       "     TargetFlux r_4041 with at least 0.0 of biomass (None)  \\\n",
       "0                                             0.000000       \n",
       "1                                             0.000000       \n",
       "2                                             0.000000       \n",
       "3                                             0.000000       \n",
       "4                                             0.000000       \n",
       "..                                                 ...       \n",
       "184                                           0.598086       \n",
       "185                                           0.094355       \n",
       "186                                           0.094355       \n",
       "187                                           0.094355       \n",
       "188                                           0.094355       \n",
       "\n",
       "     WYIELD biomass: r_4041 product: r_1589   \\\n",
       "0                                   0.000000   \n",
       "1                                   0.000000   \n",
       "2                                   0.000000   \n",
       "3                                   0.000000   \n",
       "4                                   0.000000   \n",
       "..                                       ...   \n",
       "184                                 0.351609   \n",
       "185                                 1.269405   \n",
       "186                                 1.319482   \n",
       "187                                 1.265827   \n",
       "188                                 1.265827   \n",
       "\n",
       "                                                 Genes  \\\n",
       "0    {'YBR166C': 0.25, 'YNL220W': 0.125, 'YIL043C':...   \n",
       "1    {'YBR166C': 0.25, 'YNL220W': 0.125, 'YGL063W':...   \n",
       "2    {'YDR305C': 0.5, 'YGR208W': 0.25, 'YOL126C': 0...   \n",
       "3    {'YDR305C': 0.5, 'YNL241C': 4, 'YGR208W': 0.25...   \n",
       "4    {'YDR305C': 0.5, 'YNL241C': 4, 'YGR208W': 0.25...   \n",
       "..                                                 ...   \n",
       "184  {'YMR267W': 2, 'YLR308W': 2, 'YNL331C': 0.25, ...   \n",
       "185  {'YJR103W': 16, 'YJL121C': 4, 'YFL058W': 0.125...   \n",
       "186  {'YPL262W': 2, 'YGR193C': 0.125, 'YJL121C': 2,...   \n",
       "187  {'YPL262W': 2, 'YNL191W': 0, 'YGL148W': 4, 'YF...   \n",
       "188  {'YER175C': 32, 'YFL058W': 0.125, 'YKL152C': 0...   \n",
       "\n",
       "                                             Reactions  \n",
       "0    {'r_0714': 0, 'r_0020': (2.6153065645050235, 1...  \n",
       "1    {'r_0714': 0, 'r_0020': (2.6153065645050084, 1...  \n",
       "2    {'r_1025': (0, 0), 'r_0714': 0, 'r_0138': (0.0...  \n",
       "3    {'r_1025': (0, 0), 'r_0714': 0, 'r_0138': (0.0...  \n",
       "4    {'r_1025': (0, 0), 'r_0714': 0, 'r_0138': (0.0...  \n",
       "..                                                 ...  \n",
       "184  {'r_1069': 0, 'r_0468': (0, 0), 'r_1109': (0, ...  \n",
       "185  {'r_0279': (2.644694430440478, 10000), 'r_0307...  \n",
       "186  {'r_0279': (2.6446944304404685, 10000), 'r_045...  \n",
       "187  {'r_4171': (0, 0), 'r_0279': (1.32234721522023...  \n",
       "188  {'r_0356': 0, 'r_0279': (2.644694430440529, 10...  \n",
       "\n",
       "[189 rows x 5 columns]"
      ]
     },
     "metadata": {},
     "output_type": "display_data"
    }
   ],
   "source": [
    "# cell to display part of out dataframe\n",
    "display(df)"
   ]
  },
  {
   "cell_type": "markdown",
   "metadata": {},
   "source": [
    "Our first step to achieve a desirable solution is to drop all rows that doesn't correlate with our objetive: Biomass > 0.1 <br> So let's drop some rows and see what we have."
   ]
  },
  {
   "cell_type": "code",
   "execution_count": 147,
   "metadata": {},
   "outputs": [
    {
     "name": "stdout",
     "output_type": "stream",
     "text": [
      "This dataframe has 115 rows and 5 columns after deleting all rows with biomass inferior to 0.1.\n"
     ]
    }
   ],
   "source": [
    "df.drop(df[df[\"BPCY (r_4041 * r_1589)\"] < 0.1].index, inplace=True)\n",
    "print(f\"This dataframe has {df.shape[0]} rows and {df.shape[1]} columns after deleting all rows with biomass inferior to 0.1.\")\n",
    "df.reset_index(drop=True, inplace=True)"
   ]
  },
  {
   "cell_type": "markdown",
   "metadata": {},
   "source": [
    "Our goal now is to reduce even more our pool of possible solutions by choosing the ones that have less genetic modifications. For that we will convert the dataframe solution values to a dictionary and from there we will be able to check the ones that are more suitable within our main goal. <br>\n",
    "To make this analysis we need to make some changes to our dataframe first. Although our \"Genes\" and \"Reactions\" column values look like a dictionary they're actually strings formatted as dictionaries. To make these changes we will use **ast**, a python library that makes transforming a dictionary formatted string into a python dictionary object possible."
   ]
  },
  {
   "cell_type": "code",
   "execution_count": 148,
   "metadata": {},
   "outputs": [
    {
     "data": {
      "text/plain": [
       "BPCY (r_4041 * r_1589)                                   float64\n",
       "TargetFlux r_4041 with at least 0.0 of biomass (None)    float64\n",
       "WYIELD biomass: r_4041 product: r_1589                   float64\n",
       "Genes                                                     object\n",
       "Reactions                                                 object\n",
       "dtype: object"
      ]
     },
     "execution_count": 148,
     "metadata": {},
     "output_type": "execute_result"
    }
   ],
   "source": [
    "df.dtypes"
   ]
  },
  {
   "cell_type": "code",
   "execution_count": 149,
   "metadata": {},
   "outputs": [],
   "source": [
    "import ast\n",
    "\n",
    "df[\"Reactions\"] = df[\"Reactions\"].apply(ast.literal_eval)\n",
    "df[\"Genes\"] = df[\"Genes\"].apply(ast.literal_eval)\n"
   ]
  },
  {
   "cell_type": "code",
   "execution_count": 156,
   "metadata": {},
   "outputs": [],
   "source": [
    "df.drop(df[df[\"Reactions\"].map(len) > 5].index & df[df[\"Genes\"].map(len) > 5].index, inplace=True)\n",
    "df.reset_index(drop=True, inplace=True)"
   ]
  },
  {
   "cell_type": "markdown",
   "metadata": {},
   "source": [
    "In order to analyse the natural maximum 2-phenylethanol production capabilities of *Sacharomyces cerevisiae* we perform a FVA analysis on the YEAST8 model using MEWpy"
   ]
  },
  {
   "cell_type": "code",
   "execution_count": 151,
   "metadata": {},
   "outputs": [
    {
     "name": "stdout",
     "output_type": "stream",
     "text": [
      "  Reaction ID  Minimum   Maximum\n",
      "0      r_1589      0.0  0.927562\n"
     ]
    }
   ],
   "source": [
    "from cobra.io import read_sbml_model\n",
    "from mewpy.simulation import get_simulator\n",
    "\n",
    "model = read_sbml_model(\"models/yeast-GEM.xml\")\n",
    "\n",
    "O2 = \"r_1992\" # EX_o2_e (r_1992)\n",
    "GLC = \"r_1714\" # EX_glc__D_e (r_1714)\n",
    "\n",
    "envcond = {\n",
    "        O2: (-20.0, 100000.0), \n",
    "        GLC: (-10.0, 100000.0)\n",
    "        }\n",
    "\n",
    "PRODUCT_ID = \"r_1589\" # EX_2phetoh_e (r_1589)\n",
    "\n",
    "simul = get_simulator(model, envcond=envcond)\n",
    "print(simul.FVA(reactions = [PRODUCT_ID], format = 'df'))"
   ]
  },
  {
   "cell_type": "markdown",
   "metadata": {},
   "source": [
    "However, by analysing our optimization results within our dataframe we can actually see that there are a set of modifications that increases the *Sacharomyces cerevisiae* natural production capabilities of 2-phenylethanol by almost 4 times."
   ]
  },
  {
   "cell_type": "code",
   "execution_count": 157,
   "metadata": {},
   "outputs": [
    {
     "name": "stdout",
     "output_type": "stream",
     "text": [
      "Minimum FVA: 0.720417902558721\n",
      "Maximum FVA: 3.61196810332161\n"
     ]
    }
   ],
   "source": [
    "print(f\"Minimum FVA: {df['WYIELD biomass: r_4041 product: r_1589 '].min()}\")\n",
    "print(f\"Maximum FVA: {df['WYIELD biomass: r_4041 product: r_1589 '].max()}\")"
   ]
  },
  {
   "cell_type": "code",
   "execution_count": 158,
   "metadata": {},
   "outputs": [
    {
     "data": {
      "text/html": [
       "<div>\n",
       "<style scoped>\n",
       "    .dataframe tbody tr th:only-of-type {\n",
       "        vertical-align: middle;\n",
       "    }\n",
       "\n",
       "    .dataframe tbody tr th {\n",
       "        vertical-align: top;\n",
       "    }\n",
       "\n",
       "    .dataframe thead th {\n",
       "        text-align: right;\n",
       "    }\n",
       "</style>\n",
       "<table border=\"1\" class=\"dataframe\">\n",
       "  <thead>\n",
       "    <tr style=\"text-align: right;\">\n",
       "      <th></th>\n",
       "      <th>BPCY (r_4041 * r_1589)</th>\n",
       "      <th>TargetFlux r_4041 with at least 0.0 of biomass (None)</th>\n",
       "      <th>WYIELD biomass: r_4041 product: r_1589</th>\n",
       "      <th>Genes</th>\n",
       "      <th>Reactions</th>\n",
       "    </tr>\n",
       "  </thead>\n",
       "  <tbody>\n",
       "    <tr>\n",
       "      <th>15</th>\n",
       "      <td>0.475955</td>\n",
       "      <td>0.118863</td>\n",
       "      <td>3.611968</td>\n",
       "      <td>{'YGR256W': 2, 'YNL316C': 32, 'Q0045': 0.25}</td>\n",
       "      <td>{'r_0438': (0, 19.307971581669968), 'r_0889': ...</td>\n",
       "    </tr>\n",
       "  </tbody>\n",
       "</table>\n",
       "</div>"
      ],
      "text/plain": [
       "    BPCY (r_4041 * r_1589)  \\\n",
       "15                0.475955   \n",
       "\n",
       "    TargetFlux r_4041 with at least 0.0 of biomass (None)  \\\n",
       "15                                           0.118863       \n",
       "\n",
       "    WYIELD biomass: r_4041 product: r_1589   \\\n",
       "15                                 3.611968   \n",
       "\n",
       "                                           Genes  \\\n",
       "15  {'YGR256W': 2, 'YNL316C': 32, 'Q0045': 0.25}   \n",
       "\n",
       "                                            Reactions  \n",
       "15  {'r_0438': (0, 19.307971581669968), 'r_0889': ...  "
      ]
     },
     "execution_count": 158,
     "metadata": {},
     "output_type": "execute_result"
    }
   ],
   "source": [
    "# get the row which corresponds with our maximum level of WYIELD\n",
    "df.loc[df[\"WYIELD biomass: r_4041 product: r_1589 \"] == df[\"WYIELD biomass: r_4041 product: r_1589 \"].max()]\n"
   ]
  },
  {
   "cell_type": "code",
   "execution_count": 159,
   "metadata": {},
   "outputs": [
    {
     "name": "stdout",
     "output_type": "stream",
     "text": [
      "Genes: {'YGR256W': 2, 'YNL316C': 32, 'Q0045': 0.25}\n",
      "Reactions: {'r_0438': (0, 19.307971581669968), 'r_0889': (7.06883478546144, 10000), 'r_0938': (3.8707169858806947, 10000)}\n"
     ]
    }
   ],
   "source": [
    "print(f\"Genes: {df['Genes'][15]}\")\n",
    "print(f\"Reactions: {df['Reactions'][15]}\")"
   ]
  }
 ],
 "metadata": {
  "kernelspec": {
   "display_name": "Python 3.9.7 64-bit",
   "language": "python",
   "name": "python3"
  },
  "language_info": {
   "codemirror_mode": {
    "name": "ipython",
    "version": 3
   },
   "file_extension": ".py",
   "mimetype": "text/x-python",
   "name": "python",
   "nbconvert_exporter": "python",
   "pygments_lexer": "ipython3",
   "version": "3.9.7"
  },
  "orig_nbformat": 4,
  "vscode": {
   "interpreter": {
    "hash": "d2d8da339796ec72fc4a485e0507aa344a7245dbebe46e83aee7af4ec564b7bb"
   }
  }
 },
 "nbformat": 4,
 "nbformat_minor": 2
}
