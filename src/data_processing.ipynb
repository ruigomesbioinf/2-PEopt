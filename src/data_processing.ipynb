{
 "cells": [
  {
   "cell_type": "markdown",
   "metadata": {},
   "source": [
    "## ***SACHAROMYCES CEREVISIAE*** OPTIMIZATION OUTPUT DATA PROCESSING"
   ]
  },
  {
   "cell_type": "markdown",
   "metadata": {},
   "source": [
    "Since we've runned 10 Gene Over/Under expression optimization problem we've quite a lot of results to carefully interpret. We'll be using pandas (a powerful python library to handle data science preprocessing stages). <br> First we'll merge all 10 .csv file into 1 .csv file to better understand our data and preform various preprocessing steps to gather only the best solutions possible for our problem."
   ]
  },
  {
   "cell_type": "code",
   "execution_count": 92,
   "metadata": {},
   "outputs": [
    {
     "name": "stdout",
     "output_type": "stream",
     "text": [
      "This dataframe has: 189 rows and 7 columns.\n",
      "This dataframe has: 189 rows and 5 columns after manipulation.\n"
     ]
    }
   ],
   "source": [
    "import os\n",
    "import glob\n",
    "import pandas as pd\n",
    "\n",
    "# pandas has a set_option method that let you costumize the behaviour and display of dataframes\n",
    "# here the set_option method is set to display the full contents of our dataframe\n",
    "# pd.set_option(\"display.max_rows\", None)\n",
    "# pd.options.display.max_rows = 15\n",
    "\n",
    "# setting the path to join multiple files \n",
    "files = os.path.join(r'C:\\Users\\geral\\Desktop\\BIOINF_PROJECT\\2-PEopt\\src\\outputGOU', \"*.csv\")\n",
    "\n",
    "# return a list of the merged files\n",
    "files = glob.glob(files)\n",
    "\n",
    "# using pandas methods concat and read_csv to join files with list comprehension\n",
    "df = pd.concat([pd.read_csv(f, sep=\";\", index_col=False) for f in files], ignore_index=True)\n",
    "print(f\"This dataframe has: {df.shape[0]} rows and {df.shape[1]} columns.\")\n",
    "\n",
    "# pandas dataframe manipulation to drop unnecessary columns (columns only with NaN values)\n",
    "df.drop([\"Unnamed: 3\", \"solution\"], axis=1, inplace=True)\n",
    "print(f\"This dataframe has: {df.shape[0]} rows and {df.shape[1]} columns after manipulation.\")"
   ]
  },
  {
   "cell_type": "markdown",
   "metadata": {},
   "source": [
    "Our first step to achieve a desirable solution is to drop all rows that doesn't correlate with our objetive: Biomass > 0.1 <br> So let's drop some rows and see what we have."
   ]
  },
  {
   "cell_type": "code",
   "execution_count": 94,
   "metadata": {},
   "outputs": [
    {
     "name": "stdout",
     "output_type": "stream",
     "text": [
      "This dataframe has 115 rows and 5 columns after deleting all rows with biomass inferior to 0.1\n"
     ]
    }
   ],
   "source": [
    "df.drop(df[df[\"BPCY (r_4041 * r_1589)\"] < 0.1].index, inplace=True)\n",
    "print(f\"This dataframe has {df.shape[0]} rows and {df.shape[1]} columns after deleting all rows with biomass inferior to 0.1.\")"
   ]
  },
  {
   "cell_type": "code",
   "execution_count": 98,
   "metadata": {},
   "outputs": [
    {
     "data": {
      "text/plain": [
       "3.70211854292926"
      ]
     },
     "execution_count": 98,
     "metadata": {},
     "output_type": "execute_result"
    }
   ],
   "source": [
    "df[\"WYIELD biomass: r_4041 product: r_1589 \"].max()"
   ]
  },
  {
   "cell_type": "code",
   "execution_count": 99,
   "metadata": {},
   "outputs": [
    {
     "data": {
      "text/html": [
       "<div>\n",
       "<style scoped>\n",
       "    .dataframe tbody tr th:only-of-type {\n",
       "        vertical-align: middle;\n",
       "    }\n",
       "\n",
       "    .dataframe tbody tr th {\n",
       "        vertical-align: top;\n",
       "    }\n",
       "\n",
       "    .dataframe thead th {\n",
       "        text-align: right;\n",
       "    }\n",
       "</style>\n",
       "<table border=\"1\" class=\"dataframe\">\n",
       "  <thead>\n",
       "    <tr style=\"text-align: right;\">\n",
       "      <th></th>\n",
       "      <th>BPCY (r_4041 * r_1589)</th>\n",
       "      <th>TargetFlux r_4041 with at least 0.0 of biomass (None)</th>\n",
       "      <th>WYIELD biomass: r_4041 product: r_1589</th>\n",
       "      <th>Unnamed: 4</th>\n",
       "      <th>Unnamed: 6</th>\n",
       "    </tr>\n",
       "  </thead>\n",
       "  <tbody>\n",
       "    <tr>\n",
       "      <th>13</th>\n",
       "      <td>0.471155</td>\n",
       "      <td>0.189779</td>\n",
       "      <td>0.972732</td>\n",
       "      <td>{'YGL063W': 8, 'YIL043C': 0.03125, 'YOL126C': ...</td>\n",
       "      <td>{'r_0714': 0, 'r_0020': (2.6153065645050195, 1...</td>\n",
       "    </tr>\n",
       "    <tr>\n",
       "      <th>14</th>\n",
       "      <td>0.492589</td>\n",
       "      <td>0.187592</td>\n",
       "      <td>1.648812</td>\n",
       "      <td>{'YBR166C': 0.25, 'YOL126C': 0, 'YBR249C': 8, ...</td>\n",
       "      <td>{'r_0714': 0, 'r_0020': (2.615306564505013, 10...</td>\n",
       "    </tr>\n",
       "    <tr>\n",
       "      <th>17</th>\n",
       "      <td>0.470345</td>\n",
       "      <td>0.189315</td>\n",
       "      <td>0.988020</td>\n",
       "      <td>{'YDL085W': 0.25, 'YGL065C': 0, 'YBR249C': 8, ...</td>\n",
       "      <td>{'r_4244': 0, 'r_0714': 0, 'r_4243': 0, 'r_002...</td>\n",
       "    </tr>\n",
       "    <tr>\n",
       "      <th>18</th>\n",
       "      <td>0.492589</td>\n",
       "      <td>0.187592</td>\n",
       "      <td>1.794705</td>\n",
       "      <td>{'YBR166C': 0.25, 'YDL085W': 0.25, 'Q0105': 16...</td>\n",
       "      <td>{'r_0714': 0, 'r_0020': (2.615306564505009, 10...</td>\n",
       "    </tr>\n",
       "    <tr>\n",
       "      <th>19</th>\n",
       "      <td>0.492589</td>\n",
       "      <td>0.187592</td>\n",
       "      <td>1.794705</td>\n",
       "      <td>{'YBR166C': 0.25, 'YDL085W': 0.25, 'Q0105': 16...</td>\n",
       "      <td>{'r_0714': 0, 'r_0020': (2.615306564505013, 10...</td>\n",
       "    </tr>\n",
       "    <tr>\n",
       "      <th>...</th>\n",
       "      <td>...</td>\n",
       "      <td>...</td>\n",
       "      <td>...</td>\n",
       "      <td>...</td>\n",
       "      <td>...</td>\n",
       "    </tr>\n",
       "    <tr>\n",
       "      <th>182</th>\n",
       "      <td>0.650626</td>\n",
       "      <td>0.598086</td>\n",
       "      <td>0.351609</td>\n",
       "      <td>{'YMR267W': 2, 'YLR308W': 2, 'YNL331C': 0.25, ...</td>\n",
       "      <td>{'r_0468': (0, 0), 'r_4250': 0, 'r_1069': 0, '...</td>\n",
       "    </tr>\n",
       "    <tr>\n",
       "      <th>183</th>\n",
       "      <td>0.650626</td>\n",
       "      <td>0.598086</td>\n",
       "      <td>0.351609</td>\n",
       "      <td>{'YMR267W': 2, 'YLR308W': 2, 'YNL331C': 0.25, ...</td>\n",
       "      <td>{'r_1069': 0, 'r_0468': (0, 0), 'r_1109': (0, ...</td>\n",
       "    </tr>\n",
       "    <tr>\n",
       "      <th>184</th>\n",
       "      <td>0.650626</td>\n",
       "      <td>0.598086</td>\n",
       "      <td>0.351609</td>\n",
       "      <td>{'YMR267W': 2, 'YLR308W': 2, 'YNL331C': 0.25, ...</td>\n",
       "      <td>{'r_1069': 0, 'r_0468': (0, 0), 'r_1109': (0, ...</td>\n",
       "    </tr>\n",
       "    <tr>\n",
       "      <th>185</th>\n",
       "      <td>0.249412</td>\n",
       "      <td>0.094355</td>\n",
       "      <td>1.269405</td>\n",
       "      <td>{'YJR103W': 16, 'YJL121C': 4, 'YFL058W': 0.125...</td>\n",
       "      <td>{'r_0279': (2.644694430440478, 10000), 'r_0307...</td>\n",
       "    </tr>\n",
       "    <tr>\n",
       "      <th>188</th>\n",
       "      <td>0.185122</td>\n",
       "      <td>0.094355</td>\n",
       "      <td>1.265827</td>\n",
       "      <td>{'YER175C': 32, 'YFL058W': 0.125, 'YKL152C': 0...</td>\n",
       "      <td>{'r_0356': 0, 'r_0279': (2.644694430440529, 10...</td>\n",
       "    </tr>\n",
       "  </tbody>\n",
       "</table>\n",
       "<p>115 rows × 5 columns</p>\n",
       "</div>"
      ],
      "text/plain": [
       "     BPCY (r_4041 * r_1589)  \\\n",
       "13                 0.471155   \n",
       "14                 0.492589   \n",
       "17                 0.470345   \n",
       "18                 0.492589   \n",
       "19                 0.492589   \n",
       "..                      ...   \n",
       "182                0.650626   \n",
       "183                0.650626   \n",
       "184                0.650626   \n",
       "185                0.249412   \n",
       "188                0.185122   \n",
       "\n",
       "     TargetFlux r_4041 with at least 0.0 of biomass (None)  \\\n",
       "13                                            0.189779       \n",
       "14                                            0.187592       \n",
       "17                                            0.189315       \n",
       "18                                            0.187592       \n",
       "19                                            0.187592       \n",
       "..                                                 ...       \n",
       "182                                           0.598086       \n",
       "183                                           0.598086       \n",
       "184                                           0.598086       \n",
       "185                                           0.094355       \n",
       "188                                           0.094355       \n",
       "\n",
       "     WYIELD biomass: r_4041 product: r_1589   \\\n",
       "13                                  0.972732   \n",
       "14                                  1.648812   \n",
       "17                                  0.988020   \n",
       "18                                  1.794705   \n",
       "19                                  1.794705   \n",
       "..                                       ...   \n",
       "182                                 0.351609   \n",
       "183                                 0.351609   \n",
       "184                                 0.351609   \n",
       "185                                 1.269405   \n",
       "188                                 1.265827   \n",
       "\n",
       "                                            Unnamed: 4  \\\n",
       "13   {'YGL063W': 8, 'YIL043C': 0.03125, 'YOL126C': ...   \n",
       "14   {'YBR166C': 0.25, 'YOL126C': 0, 'YBR249C': 8, ...   \n",
       "17   {'YDL085W': 0.25, 'YGL065C': 0, 'YBR249C': 8, ...   \n",
       "18   {'YBR166C': 0.25, 'YDL085W': 0.25, 'Q0105': 16...   \n",
       "19   {'YBR166C': 0.25, 'YDL085W': 0.25, 'Q0105': 16...   \n",
       "..                                                 ...   \n",
       "182  {'YMR267W': 2, 'YLR308W': 2, 'YNL331C': 0.25, ...   \n",
       "183  {'YMR267W': 2, 'YLR308W': 2, 'YNL331C': 0.25, ...   \n",
       "184  {'YMR267W': 2, 'YLR308W': 2, 'YNL331C': 0.25, ...   \n",
       "185  {'YJR103W': 16, 'YJL121C': 4, 'YFL058W': 0.125...   \n",
       "188  {'YER175C': 32, 'YFL058W': 0.125, 'YKL152C': 0...   \n",
       "\n",
       "                                            Unnamed: 6  \n",
       "13   {'r_0714': 0, 'r_0020': (2.6153065645050195, 1...  \n",
       "14   {'r_0714': 0, 'r_0020': (2.615306564505013, 10...  \n",
       "17   {'r_4244': 0, 'r_0714': 0, 'r_4243': 0, 'r_002...  \n",
       "18   {'r_0714': 0, 'r_0020': (2.615306564505009, 10...  \n",
       "19   {'r_0714': 0, 'r_0020': (2.615306564505013, 10...  \n",
       "..                                                 ...  \n",
       "182  {'r_0468': (0, 0), 'r_4250': 0, 'r_1069': 0, '...  \n",
       "183  {'r_1069': 0, 'r_0468': (0, 0), 'r_1109': (0, ...  \n",
       "184  {'r_1069': 0, 'r_0468': (0, 0), 'r_1109': (0, ...  \n",
       "185  {'r_0279': (2.644694430440478, 10000), 'r_0307...  \n",
       "188  {'r_0356': 0, 'r_0279': (2.644694430440529, 10...  \n",
       "\n",
       "[115 rows x 5 columns]"
      ]
     },
     "execution_count": 99,
     "metadata": {},
     "output_type": "execute_result"
    }
   ],
   "source": [
    "df"
   ]
  },
  {
   "cell_type": "code",
   "execution_count": null,
   "metadata": {},
   "outputs": [],
   "source": []
  }
 ],
 "metadata": {
  "kernelspec": {
   "display_name": "Python 3.9.7 64-bit",
   "language": "python",
   "name": "python3"
  },
  "language_info": {
   "codemirror_mode": {
    "name": "ipython",
    "version": 3
   },
   "file_extension": ".py",
   "mimetype": "text/x-python",
   "name": "python",
   "nbconvert_exporter": "python",
   "pygments_lexer": "ipython3",
   "version": "3.9.7"
  },
  "orig_nbformat": 4,
  "vscode": {
   "interpreter": {
    "hash": "d2d8da339796ec72fc4a485e0507aa344a7245dbebe46e83aee7af4ec564b7bb"
   }
  }
 },
 "nbformat": 4,
 "nbformat_minor": 2
}
